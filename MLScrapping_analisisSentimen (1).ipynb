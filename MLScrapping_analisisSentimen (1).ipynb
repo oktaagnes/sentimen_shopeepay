{
  "cells": [
    {
      "cell_type": "markdown",
      "source": [
        "#**Install Library**"
      ],
      "metadata": {
        "id": "9lCSWSNo9i3q"
      }
    },
    {
      "cell_type": "code",
      "source": [
        "!pip install google_play-scraper\n",
        "!pip install sastrawi"
      ],
      "metadata": {
        "id": "c6XG4bC49sSk",
        "colab": {
          "base_uri": "https://localhost:8080/"
        },
        "outputId": "c2351d79-e9ae-4f4f-d13a-e94fab7d94e7"
      },
      "execution_count": 1,
      "outputs": [
        {
          "output_type": "stream",
          "name": "stdout",
          "text": [
            "Collecting google_play-scraper\n",
            "  Downloading google_play_scraper-1.2.7-py3-none-any.whl.metadata (50 kB)\n",
            "\u001b[?25l     \u001b[90m━━━━━━━━━━━━━━━━━━━━━━━━━━━━━━━━━━━━━━━━\u001b[0m \u001b[32m0.0/50.2 kB\u001b[0m \u001b[31m?\u001b[0m eta \u001b[36m-:--:--\u001b[0m\r\u001b[2K     \u001b[90m━━━━━━━━━━━━━━━━━━━━━━━━━━━━━━━━━━━━━━━━\u001b[0m \u001b[32m50.2/50.2 kB\u001b[0m \u001b[31m2.2 MB/s\u001b[0m eta \u001b[36m0:00:00\u001b[0m\n",
            "\u001b[?25hDownloading google_play_scraper-1.2.7-py3-none-any.whl (28 kB)\n",
            "Installing collected packages: google_play-scraper\n",
            "Successfully installed google_play-scraper-1.2.7\n",
            "Collecting sastrawi\n",
            "  Downloading Sastrawi-1.0.1-py2.py3-none-any.whl.metadata (909 bytes)\n",
            "Downloading Sastrawi-1.0.1-py2.py3-none-any.whl (209 kB)\n",
            "\u001b[2K   \u001b[90m━━━━━━━━━━━━━━━━━━━━━━━━━━━━━━━━━━━━━━━━\u001b[0m \u001b[32m209.7/209.7 kB\u001b[0m \u001b[31m3.8 MB/s\u001b[0m eta \u001b[36m0:00:00\u001b[0m\n",
            "\u001b[?25hInstalling collected packages: sastrawi\n",
            "Successfully installed sastrawi-1.0.1\n"
          ]
        }
      ]
    },
    {
      "cell_type": "markdown",
      "metadata": {
        "id": "SxaJz-LL-Uti"
      },
      "source": [
        "#**Import Library**"
      ]
    },
    {
      "cell_type": "code",
      "source": [
        "import pandas as pd\n",
        "from google_play_scraper import app, reviews, Sort, reviews_all\n",
        "from Sastrawi.Stemmer.StemmerFactory import StemmerFactory\n",
        "from Sastrawi.StopWordRemover.StopWordRemoverFactory import StopWordRemoverFactory\n",
        "from wordcloud import WordCloud\n",
        "import nltk\n",
        "nltk.download('punkt')\n",
        "nltk.download('stopwords')"
      ],
      "metadata": {
        "colab": {
          "base_uri": "https://localhost:8080/"
        },
        "id": "61C_lkHcIh3D",
        "outputId": "44e22656-561a-4844-b917-d42df7ef89a8"
      },
      "execution_count": 2,
      "outputs": [
        {
          "output_type": "stream",
          "name": "stderr",
          "text": [
            "[nltk_data] Downloading package punkt to /root/nltk_data...\n",
            "[nltk_data]   Unzipping tokenizers/punkt.zip.\n",
            "[nltk_data] Downloading package stopwords to /root/nltk_data...\n",
            "[nltk_data]   Unzipping corpora/stopwords.zip.\n"
          ]
        },
        {
          "output_type": "execute_result",
          "data": {
            "text/plain": [
              "True"
            ]
          },
          "metadata": {},
          "execution_count": 2
        }
      ]
    },
    {
      "cell_type": "markdown",
      "metadata": {
        "id": "YOStOXd2-mpF"
      },
      "source": [
        "#**Menscrapping review atau komentar dari playstore shopeepay di google play store, dan mengambilnya sebanyak 15.000 data**"
      ]
    },
    {
      "cell_type": "code",
      "execution_count": 3,
      "metadata": {
        "id": "IkIukjAyrGrJ"
      },
      "outputs": [],
      "source": [
        "from google_play_scraper import app, reviews_all, Sort\n",
        "\n",
        "scrapreview = reviews(\n",
        "    'com.shopeepay.id',\n",
        "    lang='id',\n",
        "    country='id',\n",
        "    sort=Sort.MOST_RELEVANT,\n",
        "    count=15000)"
      ]
    },
    {
      "cell_type": "markdown",
      "metadata": {
        "id": "Y7zuOQOB_lcJ"
      },
      "source": [
        "#Menyimpan hasil scrapping ke dalam bentuk csv"
      ]
    },
    {
      "cell_type": "code",
      "execution_count": 5,
      "metadata": {
        "colab": {
          "base_uri": "https://localhost:8080/"
        },
        "id": "gnuwBVmhtiLj",
        "outputId": "51c78adc-db8e-4d4c-a86a-b1fd979f210e"
      },
      "outputs": [
        {
          "output_type": "stream",
          "name": "stdout",
          "text": [
            "CSV file updated successfully!\n"
          ]
        }
      ],
      "source": [
        "import csv\n",
        "\n",
        "for review in scrapreview[0]:\n",
        "    if isinstance(review, dict):\n",
        "        content = review.get('content', '')\n",
        "        with open('comment_shopeepay.csv', mode='a', newline='', encoding='utf-8') as file:\n",
        "            writer = csv.writer(file)\n",
        "            writer.writerow([content])\n",
        "    else:\n",
        "        print(f\"Invalid review format: {review}\")\n",
        "\n",
        "print(\"CSV file updated successfully!\")"
      ]
    }
  ],
  "metadata": {
    "colab": {
      "provenance": []
    },
    "kernelspec": {
      "display_name": "Python 3",
      "name": "python3"
    },
    "language_info": {
      "name": "python"
    }
  },
  "nbformat": 4,
  "nbformat_minor": 0
}